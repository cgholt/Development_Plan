{
 "cells": [
  {
   "cell_type": "markdown",
   "metadata": {},
   "source": [
    "# Project 1: Exploratory Data Analysis\n",
    "Diabetes Data\n",
    "\n",
    "First Name, Last Name\n",
    "\n",
    "## Declaration\n",
    "\n",
    "**The source of the data is the *The Juvenile Diabetes Research Foundation \n",
    "Continuous Glucose Monitoring Study Group*, but the analyses, content \n",
    "and conclusions presented herein are solely the responsibility of the authors \n",
    "and have not been reviewed or approved by the aforementioned study ownwers.**"
   ]
  },
  {
   "cell_type": "markdown",
   "metadata": {},
   "source": [
    "# Data Notes\n",
    "\n",
    "- Enter your own notes here about things you want to jot down, keep in mind\n",
    "\n",
    "\n",
    "## Edge cases\n",
    "-\n",
    "\n",
    "\n",
    "## Caveats / Assumptions\n",
    "- "
   ]
  },
  {
   "cell_type": "markdown",
   "metadata": {},
   "source": [
    "# Python Imports"
   ]
  },
  {
   "cell_type": "code",
   "execution_count": 1,
   "metadata": {},
   "outputs": [],
   "source": [
    "%load_ext autoreload"
   ]
  },
  {
   "cell_type": "code",
   "execution_count": 2,
   "metadata": {},
   "outputs": [],
   "source": [
    "%autoreload 2"
   ]
  },
  {
   "cell_type": "code",
   "execution_count": 14,
   "metadata": {},
   "outputs": [],
   "source": [
    "import pandas as pd # ensure v = 0.24 !pip install --upgrade pandas \n",
    "import numpy as np\n",
    "import datetime as dt"
   ]
  },
  {
   "cell_type": "code",
   "execution_count": 4,
   "metadata": {},
   "outputs": [],
   "source": [
    "import seaborn as sns\n",
    "import matplotlib.pyplot as plt\n",
    "from matplotlib.colors import Colormap,LinearSegmentedColormap\n",
    "from matplotlib.gridspec import GridSpec\n",
    "import matplotlib.patches as mpatches"
   ]
  },
  {
   "cell_type": "code",
   "execution_count": 27,
   "metadata": {},
   "outputs": [],
   "source": [
    "import os\n",
    "from pathlib import Path\n",
    "import pdb"
   ]
  },
  {
   "cell_type": "code",
   "execution_count": 50,
   "metadata": {},
   "outputs": [],
   "source": [
    "import dask"
   ]
  },
  {
   "cell_type": "code",
   "execution_count": 6,
   "metadata": {},
   "outputs": [],
   "source": [
    "%%capture\n",
    "from tqdm import tqdm_notebook as tqdm\n",
    "tqdm().pandas()"
   ]
  },
  {
   "cell_type": "code",
   "execution_count": 7,
   "metadata": {},
   "outputs": [],
   "source": [
    "pd.set_option('display.max_rows', 100)\n",
    "pd.set_option('display.max_columns', 100)"
   ]
  },
  {
   "cell_type": "code",
   "execution_count": 8,
   "metadata": {},
   "outputs": [],
   "source": [
    "sns.set_style('darkgrid')"
   ]
  },
  {
   "cell_type": "code",
   "execution_count": 9,
   "metadata": {},
   "outputs": [],
   "source": [
    "sns.set_context('talk')"
   ]
  },
  {
   "cell_type": "markdown",
   "metadata": {},
   "source": [
    "# 1. Data Import"
   ]
  },
  {
   "cell_type": "code",
   "execution_count": 55,
   "metadata": {},
   "outputs": [
    {
     "data": {
      "text/plain": [
       "['data/tblALabHbA1c.csv',\n",
       " 'data/tblAPtSummary.csv',\n",
       " 'data/CGM_data/RTCGM_group/tblADataRTCGM_Unblinded_RTCGMGroup_6.csv',\n",
       " 'data/CGM_data/RTCGM_group/tblADataRTCGM_Unblinded_RTCGMGroup_7.csv',\n",
       " 'data/CGM_data/RTCGM_group/tblADataRTCGM_Unblinded_RTCGMGroup_5.csv',\n",
       " 'data/CGM_data/RTCGM_group/tblADataRTCGM_Unblinded_RTCGMGroup_4.csv',\n",
       " 'data/CGM_data/RTCGM_group/tblADataRTCGM_Unblinded_RTCGMGroup_1.csv',\n",
       " 'data/CGM_data/RTCGM_group/tblADataRTCGM_Unblinded_RTCGMGroup_3.csv',\n",
       " 'data/CGM_data/RTCGM_group/tblADataRTCGM_Unblinded_RTCGMGroup_2.csv',\n",
       " 'data/CGM_data/RTCGM_group/tblADataRTCGM_Unblinded_RTCGMGroup_12.csv',\n",
       " 'data/CGM_data/RTCGM_group/tblADataRTCGM_Unblinded_RTCGMGroup_10.csv',\n",
       " 'data/CGM_data/RTCGM_group/tblADataRTCGM_Unblinded_RTCGMGroup_11.csv',\n",
       " 'data/CGM_data/RTCGM_group/tblADataRTCGM_Blind_Baseline.csv',\n",
       " 'data/CGM_data/RTCGM_group/tblADataRTCGM_Unblinded_RTCGMGroup_9.csv',\n",
       " 'data/CGM_data/RTCGM_group/tblADataRTCGM_Unblinded_RTCGMGroup_8.csv',\n",
       " 'data/CGM_data/Control_group/tblADataRTCGM_Blind_ControlGroup.csv',\n",
       " 'data/CGM_data/Control_group/tblADataRTCGM_Unblinded_ControlGroup_5.csv',\n",
       " 'data/CGM_data/Control_group/tblADataRTCGM_Unblinded_ControlGroup_4.csv',\n",
       " 'data/CGM_data/Control_group/tblADataRTCGM_Unblinded_ControlGroup_3.csv',\n",
       " 'data/CGM_data/Control_group/tblADataRTCGM_Unblinded_ControlGroup_2.csv',\n",
       " 'data/CGM_data/Control_group/tblADataRTCGM_Unblinded_ControlGroup_1.csv',\n",
       " 'data/Other_data/tblA_HypoHyperEvents.csv',\n",
       " 'data/Other_data/tblAAddlCEData.csv',\n",
       " 'data/Survey_data/tblASurveyCompS.csv',\n",
       " 'data/Survey_data/tblASurveyFearHypoC.csv',\n",
       " 'data/Survey_data/tblASurveyCareS.csv',\n",
       " 'data/Survey_data/tblASurveyExpP.csv',\n",
       " 'data/Survey_data/tblASurveyCompP.csv',\n",
       " 'data/Survey_data/tblASurveyCareP.csv',\n",
       " 'data/Survey_data/tblASurveyFearHypoA.csv',\n",
       " 'data/Survey_data/tblASurveyExpS.csv',\n",
       " 'data/Survey_data/tblASurveyGM.csv',\n",
       " 'data/Survey_data/tblASurveyHUIP.csv',\n",
       " 'data/Survey_data/tblASurveyHUIS.csv',\n",
       " 'data/Survey_data/tblASurveyFearHypoP.csv',\n",
       " 'data/Survey_data/tblASurveyPedsQLP.csv',\n",
       " 'data/Survey_data/tblASurveyPedsQLS.csv',\n",
       " 'data/Survey_data/tblASurveyCGSSAT.csv',\n",
       " 'data/Survey_data/tblASurveyPay.csv',\n",
       " 'data/Survey_data/tblASurveyPAIDP.csv',\n",
       " 'data/Survey_data/tblASurveyTxS.csv',\n",
       " 'data/Survey_data/tblASurveyPAIDS.csv',\n",
       " 'data/Survey_data/tblASurveyTxP.csv',\n",
       " 'data/Survey_data/tblASurveySF12.csv',\n",
       " 'data/Survey_data/tblASurveyHSUS.csv',\n",
       " 'data/Survey_data/tblASurveyHSUP.csv',\n",
       " 'data/Survey_data/tblASurveyIncS.csv',\n",
       " 'data/Survey_data/tblASurveyIncP.csv']"
      ]
     },
     "execution_count": 55,
     "metadata": {},
     "output_type": "execute_result"
    }
   ],
   "source": [
    "# Listing all data table files\n",
    "directory = os.fsencode('data/')\n",
    "\n",
    "r = []\n",
    "for root, dirs, files in os.walk(directory):\n",
    "    for name in files:\n",
    "        r.append(os.path.join(root, name))\n",
    "\n",
    "file_list = [f.decode('UTF-8') for f in r if 'DS_Store' not in str(f)]\n",
    "file_list"
   ]
  },
  {
   "cell_type": "code",
   "execution_count": 12,
   "metadata": {},
   "outputs": [
    {
     "data": {
      "text/html": [
       "<div>\n",
       "<style scoped>\n",
       "    .dataframe tbody tr th:only-of-type {\n",
       "        vertical-align: middle;\n",
       "    }\n",
       "\n",
       "    .dataframe tbody tr th {\n",
       "        vertical-align: top;\n",
       "    }\n",
       "\n",
       "    .dataframe thead th {\n",
       "        text-align: right;\n",
       "    }\n",
       "</style>\n",
       "<table border=\"1\" class=\"dataframe\">\n",
       "  <thead>\n",
       "    <tr style=\"text-align: right;\">\n",
       "      <th></th>\n",
       "      <th>RecID</th>\n",
       "      <th>PtID</th>\n",
       "      <th>Gender</th>\n",
       "      <th>AgeAsOfRandDt</th>\n",
       "      <th>Race</th>\n",
       "      <th>Ethnicity</th>\n",
       "      <th>Height</th>\n",
       "      <th>Weight</th>\n",
       "      <th>DurDiabetes</th>\n",
       "      <th>InsulinModality</th>\n",
       "      <th>NumSevHypo</th>\n",
       "      <th>HGMReadAvg</th>\n",
       "      <th>EduCareGvrP</th>\n",
       "      <th>EduCareGvrPEdu</th>\n",
       "      <th>RandDt</th>\n",
       "      <th>TxGroup</th>\n",
       "    </tr>\n",
       "  </thead>\n",
       "  <tbody>\n",
       "    <tr>\n",
       "      <th>0</th>\n",
       "      <td>1</td>\n",
       "      <td>307</td>\n",
       "      <td>M</td>\n",
       "      <td>46</td>\n",
       "      <td>White</td>\n",
       "      <td>Not Hispanic or Latino</td>\n",
       "      <td>167.8</td>\n",
       "      <td>93.4</td>\n",
       "      <td>31.0</td>\n",
       "      <td>Pump</td>\n",
       "      <td>0</td>\n",
       "      <td>NaN</td>\n",
       "      <td>Subject</td>\n",
       "      <td>Bachelors</td>\n",
       "      <td>1/9/2000 13:42</td>\n",
       "      <td>Control</td>\n",
       "    </tr>\n",
       "    <tr>\n",
       "      <th>1</th>\n",
       "      <td>2</td>\n",
       "      <td>258</td>\n",
       "      <td>M</td>\n",
       "      <td>18</td>\n",
       "      <td>White</td>\n",
       "      <td>Not Hispanic or Latino</td>\n",
       "      <td>193.5</td>\n",
       "      <td>97.1</td>\n",
       "      <td>10.4</td>\n",
       "      <td>Pump</td>\n",
       "      <td>0</td>\n",
       "      <td>NaN</td>\n",
       "      <td>Mother</td>\n",
       "      <td>Bachelors</td>\n",
       "      <td>1/15/2000 14:26</td>\n",
       "      <td>RT-CGM</td>\n",
       "    </tr>\n",
       "    <tr>\n",
       "      <th>2</th>\n",
       "      <td>3</td>\n",
       "      <td>309</td>\n",
       "      <td>M</td>\n",
       "      <td>16</td>\n",
       "      <td>White</td>\n",
       "      <td>Not Hispanic or Latino</td>\n",
       "      <td>174.0</td>\n",
       "      <td>73.0</td>\n",
       "      <td>6.1</td>\n",
       "      <td>Pump</td>\n",
       "      <td>0</td>\n",
       "      <td>NaN</td>\n",
       "      <td>Mother</td>\n",
       "      <td>Bachelors</td>\n",
       "      <td>1/14/2000 9:57</td>\n",
       "      <td>Control</td>\n",
       "    </tr>\n",
       "    <tr>\n",
       "      <th>3</th>\n",
       "      <td>4</td>\n",
       "      <td>344</td>\n",
       "      <td>F</td>\n",
       "      <td>69</td>\n",
       "      <td>White</td>\n",
       "      <td>Not Hispanic or Latino</td>\n",
       "      <td>162.5</td>\n",
       "      <td>64.7</td>\n",
       "      <td>14.8</td>\n",
       "      <td>Pump</td>\n",
       "      <td>0</td>\n",
       "      <td>NaN</td>\n",
       "      <td>Subject</td>\n",
       "      <td>Masters</td>\n",
       "      <td>1/20/2000 11:06</td>\n",
       "      <td>Control</td>\n",
       "    </tr>\n",
       "    <tr>\n",
       "      <th>4</th>\n",
       "      <td>5</td>\n",
       "      <td>350</td>\n",
       "      <td>F</td>\n",
       "      <td>13</td>\n",
       "      <td>White</td>\n",
       "      <td>Not Hispanic or Latino</td>\n",
       "      <td>165.1</td>\n",
       "      <td>62.3</td>\n",
       "      <td>7.1</td>\n",
       "      <td>Pump</td>\n",
       "      <td>0</td>\n",
       "      <td>NaN</td>\n",
       "      <td>Father</td>\n",
       "      <td>Associates</td>\n",
       "      <td>1/14/2000 17:28</td>\n",
       "      <td>RT-CGM</td>\n",
       "    </tr>\n",
       "  </tbody>\n",
       "</table>\n",
       "</div>"
      ],
      "text/plain": [
       "   RecID  PtID Gender  AgeAsOfRandDt   Race               Ethnicity  Height  \\\n",
       "0      1   307      M             46  White  Not Hispanic or Latino   167.8   \n",
       "1      2   258      M             18  White  Not Hispanic or Latino   193.5   \n",
       "2      3   309      M             16  White  Not Hispanic or Latino   174.0   \n",
       "3      4   344      F             69  White  Not Hispanic or Latino   162.5   \n",
       "4      5   350      F             13  White  Not Hispanic or Latino   165.1   \n",
       "\n",
       "   Weight  DurDiabetes InsulinModality NumSevHypo  HGMReadAvg EduCareGvrP  \\\n",
       "0    93.4         31.0            Pump          0         NaN     Subject   \n",
       "1    97.1         10.4            Pump          0         NaN      Mother   \n",
       "2    73.0          6.1            Pump          0         NaN      Mother   \n",
       "3    64.7         14.8            Pump          0         NaN     Subject   \n",
       "4    62.3          7.1            Pump          0         NaN      Father   \n",
       "\n",
       "  EduCareGvrPEdu           RandDt  TxGroup  \n",
       "0      Bachelors   1/9/2000 13:42  Control  \n",
       "1      Bachelors  1/15/2000 14:26   RT-CGM  \n",
       "2      Bachelors   1/14/2000 9:57  Control  \n",
       "3        Masters  1/20/2000 11:06  Control  \n",
       "4     Associates  1/14/2000 17:28   RT-CGM  "
      ]
     },
     "execution_count": 12,
     "metadata": {},
     "output_type": "execute_result"
    }
   ],
   "source": [
    "# Import patient summary & demographics\n",
    "pt_summary_orig = pd.read_csv('data/tblAPtSummary.csv')\n",
    "pt_summary = pt_summary_orig.copy(deep=True)\n",
    "pt_summary.head()"
   ]
  },
  {
   "cell_type": "code",
   "execution_count": 52,
   "metadata": {},
   "outputs": [
    {
     "data": {
      "text/html": [
       "<div>\n",
       "<style scoped>\n",
       "    .dataframe tbody tr th:only-of-type {\n",
       "        vertical-align: middle;\n",
       "    }\n",
       "\n",
       "    .dataframe tbody tr th {\n",
       "        vertical-align: top;\n",
       "    }\n",
       "\n",
       "    .dataframe thead th {\n",
       "        text-align: right;\n",
       "    }\n",
       "</style>\n",
       "<table border=\"1\" class=\"dataframe\">\n",
       "  <thead>\n",
       "    <tr style=\"text-align: right;\">\n",
       "      <th></th>\n",
       "      <th>RecID</th>\n",
       "      <th>PtID</th>\n",
       "      <th>DeviceDtTm</th>\n",
       "      <th>Glucose</th>\n",
       "    </tr>\n",
       "  </thead>\n",
       "  <tbody>\n",
       "    <tr>\n",
       "      <th>0</th>\n",
       "      <td>9306853</td>\n",
       "      <td>463</td>\n",
       "      <td>2001-01-21 00:00:00</td>\n",
       "      <td>246</td>\n",
       "    </tr>\n",
       "    <tr>\n",
       "      <th>1</th>\n",
       "      <td>9306854</td>\n",
       "      <td>463</td>\n",
       "      <td>2001-01-21 00:05:00</td>\n",
       "      <td>242</td>\n",
       "    </tr>\n",
       "    <tr>\n",
       "      <th>2</th>\n",
       "      <td>9306855</td>\n",
       "      <td>463</td>\n",
       "      <td>2001-01-21 00:10:00</td>\n",
       "      <td>238</td>\n",
       "    </tr>\n",
       "    <tr>\n",
       "      <th>3</th>\n",
       "      <td>9306856</td>\n",
       "      <td>463</td>\n",
       "      <td>2001-01-21 00:15:00</td>\n",
       "      <td>232</td>\n",
       "    </tr>\n",
       "    <tr>\n",
       "      <th>4</th>\n",
       "      <td>9306857</td>\n",
       "      <td>463</td>\n",
       "      <td>2001-01-21 00:20:00</td>\n",
       "      <td>234</td>\n",
       "    </tr>\n",
       "  </tbody>\n",
       "</table>\n",
       "</div>"
      ],
      "text/plain": [
       "     RecID  PtID          DeviceDtTm  Glucose\n",
       "0  9306853   463 2001-01-21 00:00:00      246\n",
       "1  9306854   463 2001-01-21 00:05:00      242\n",
       "2  9306855   463 2001-01-21 00:10:00      238\n",
       "3  9306856   463 2001-01-21 00:15:00      232\n",
       "4  9306857   463 2001-01-21 00:20:00      234"
      ]
     },
     "execution_count": 52,
     "metadata": {},
     "output_type": "execute_result"
    }
   ],
   "source": [
    "# Examine single RTCGM file\n",
    "cgm_test = pd.read_csv('data/CGM_data/Control_group/tblADataRTCGM_Unblinded_ControlGroup_5.csv',\n",
    "                       parse_dates=['DeviceDtTm'])\n",
    "cgm_test.head()"
   ]
  },
  {
   "cell_type": "code",
   "execution_count": 53,
   "metadata": {},
   "outputs": [],
   "source": [
    "cgm_summary_test = cgm_test.merge(pt_summary,on='PtID',how='left')"
   ]
  },
  {
   "cell_type": "code",
   "execution_count": 54,
   "metadata": {},
   "outputs": [
    {
     "data": {
      "text/html": [
       "<div>\n",
       "<style scoped>\n",
       "    .dataframe tbody tr th:only-of-type {\n",
       "        vertical-align: middle;\n",
       "    }\n",
       "\n",
       "    .dataframe tbody tr th {\n",
       "        vertical-align: top;\n",
       "    }\n",
       "\n",
       "    .dataframe thead th {\n",
       "        text-align: right;\n",
       "    }\n",
       "</style>\n",
       "<table border=\"1\" class=\"dataframe\">\n",
       "  <thead>\n",
       "    <tr style=\"text-align: right;\">\n",
       "      <th></th>\n",
       "      <th>RecID_x</th>\n",
       "      <th>PtID</th>\n",
       "      <th>DeviceDtTm</th>\n",
       "      <th>Glucose</th>\n",
       "      <th>RecID_y</th>\n",
       "      <th>Gender</th>\n",
       "      <th>AgeAsOfRandDt</th>\n",
       "      <th>Race</th>\n",
       "      <th>Ethnicity</th>\n",
       "      <th>Height</th>\n",
       "      <th>Weight</th>\n",
       "      <th>DurDiabetes</th>\n",
       "      <th>InsulinModality</th>\n",
       "      <th>NumSevHypo</th>\n",
       "      <th>HGMReadAvg</th>\n",
       "      <th>EduCareGvrP</th>\n",
       "      <th>EduCareGvrPEdu</th>\n",
       "      <th>RandDt</th>\n",
       "      <th>TxGroup</th>\n",
       "    </tr>\n",
       "  </thead>\n",
       "  <tbody>\n",
       "    <tr>\n",
       "      <th>0</th>\n",
       "      <td>9306853</td>\n",
       "      <td>463</td>\n",
       "      <td>2001-01-21 00:00:00</td>\n",
       "      <td>246</td>\n",
       "      <td>290</td>\n",
       "      <td>M</td>\n",
       "      <td>33</td>\n",
       "      <td>White</td>\n",
       "      <td>Not Hispanic or Latino</td>\n",
       "      <td>171.5</td>\n",
       "      <td>72.8</td>\n",
       "      <td>30.8</td>\n",
       "      <td>Pump</td>\n",
       "      <td>0</td>\n",
       "      <td>4.0</td>\n",
       "      <td>Subject</td>\n",
       "      <td>Bachelors</td>\n",
       "      <td>7/21/2000 12:49</td>\n",
       "      <td>Control</td>\n",
       "    </tr>\n",
       "    <tr>\n",
       "      <th>1</th>\n",
       "      <td>9306854</td>\n",
       "      <td>463</td>\n",
       "      <td>2001-01-21 00:05:00</td>\n",
       "      <td>242</td>\n",
       "      <td>290</td>\n",
       "      <td>M</td>\n",
       "      <td>33</td>\n",
       "      <td>White</td>\n",
       "      <td>Not Hispanic or Latino</td>\n",
       "      <td>171.5</td>\n",
       "      <td>72.8</td>\n",
       "      <td>30.8</td>\n",
       "      <td>Pump</td>\n",
       "      <td>0</td>\n",
       "      <td>4.0</td>\n",
       "      <td>Subject</td>\n",
       "      <td>Bachelors</td>\n",
       "      <td>7/21/2000 12:49</td>\n",
       "      <td>Control</td>\n",
       "    </tr>\n",
       "    <tr>\n",
       "      <th>2</th>\n",
       "      <td>9306855</td>\n",
       "      <td>463</td>\n",
       "      <td>2001-01-21 00:10:00</td>\n",
       "      <td>238</td>\n",
       "      <td>290</td>\n",
       "      <td>M</td>\n",
       "      <td>33</td>\n",
       "      <td>White</td>\n",
       "      <td>Not Hispanic or Latino</td>\n",
       "      <td>171.5</td>\n",
       "      <td>72.8</td>\n",
       "      <td>30.8</td>\n",
       "      <td>Pump</td>\n",
       "      <td>0</td>\n",
       "      <td>4.0</td>\n",
       "      <td>Subject</td>\n",
       "      <td>Bachelors</td>\n",
       "      <td>7/21/2000 12:49</td>\n",
       "      <td>Control</td>\n",
       "    </tr>\n",
       "    <tr>\n",
       "      <th>3</th>\n",
       "      <td>9306856</td>\n",
       "      <td>463</td>\n",
       "      <td>2001-01-21 00:15:00</td>\n",
       "      <td>232</td>\n",
       "      <td>290</td>\n",
       "      <td>M</td>\n",
       "      <td>33</td>\n",
       "      <td>White</td>\n",
       "      <td>Not Hispanic or Latino</td>\n",
       "      <td>171.5</td>\n",
       "      <td>72.8</td>\n",
       "      <td>30.8</td>\n",
       "      <td>Pump</td>\n",
       "      <td>0</td>\n",
       "      <td>4.0</td>\n",
       "      <td>Subject</td>\n",
       "      <td>Bachelors</td>\n",
       "      <td>7/21/2000 12:49</td>\n",
       "      <td>Control</td>\n",
       "    </tr>\n",
       "    <tr>\n",
       "      <th>4</th>\n",
       "      <td>9306857</td>\n",
       "      <td>463</td>\n",
       "      <td>2001-01-21 00:20:00</td>\n",
       "      <td>234</td>\n",
       "      <td>290</td>\n",
       "      <td>M</td>\n",
       "      <td>33</td>\n",
       "      <td>White</td>\n",
       "      <td>Not Hispanic or Latino</td>\n",
       "      <td>171.5</td>\n",
       "      <td>72.8</td>\n",
       "      <td>30.8</td>\n",
       "      <td>Pump</td>\n",
       "      <td>0</td>\n",
       "      <td>4.0</td>\n",
       "      <td>Subject</td>\n",
       "      <td>Bachelors</td>\n",
       "      <td>7/21/2000 12:49</td>\n",
       "      <td>Control</td>\n",
       "    </tr>\n",
       "  </tbody>\n",
       "</table>\n",
       "</div>"
      ],
      "text/plain": [
       "   RecID_x  PtID          DeviceDtTm  Glucose  RecID_y Gender  AgeAsOfRandDt  \\\n",
       "0  9306853   463 2001-01-21 00:00:00      246      290      M             33   \n",
       "1  9306854   463 2001-01-21 00:05:00      242      290      M             33   \n",
       "2  9306855   463 2001-01-21 00:10:00      238      290      M             33   \n",
       "3  9306856   463 2001-01-21 00:15:00      232      290      M             33   \n",
       "4  9306857   463 2001-01-21 00:20:00      234      290      M             33   \n",
       "\n",
       "    Race               Ethnicity  Height  Weight  DurDiabetes InsulinModality  \\\n",
       "0  White  Not Hispanic or Latino   171.5    72.8         30.8            Pump   \n",
       "1  White  Not Hispanic or Latino   171.5    72.8         30.8            Pump   \n",
       "2  White  Not Hispanic or Latino   171.5    72.8         30.8            Pump   \n",
       "3  White  Not Hispanic or Latino   171.5    72.8         30.8            Pump   \n",
       "4  White  Not Hispanic or Latino   171.5    72.8         30.8            Pump   \n",
       "\n",
       "  NumSevHypo  HGMReadAvg EduCareGvrP EduCareGvrPEdu           RandDt  TxGroup  \n",
       "0          0         4.0     Subject      Bachelors  7/21/2000 12:49  Control  \n",
       "1          0         4.0     Subject      Bachelors  7/21/2000 12:49  Control  \n",
       "2          0         4.0     Subject      Bachelors  7/21/2000 12:49  Control  \n",
       "3          0         4.0     Subject      Bachelors  7/21/2000 12:49  Control  \n",
       "4          0         4.0     Subject      Bachelors  7/21/2000 12:49  Control  "
      ]
     },
     "execution_count": 54,
     "metadata": {},
     "output_type": "execute_result"
    }
   ],
   "source": [
    "cgm_summary_test.head()"
   ]
  },
  {
   "cell_type": "markdown",
   "metadata": {},
   "source": [
    "#### Import CGM Data"
   ]
  },
  {
   "cell_type": "code",
   "execution_count": null,
   "metadata": {},
   "outputs": [],
   "source": [
    "cgm_control = [] # Add filenames from file_list to this list if it has 'ControlGroup' in the name\n",
    "cgm_treatment = [] # Add filenames from file_list to this list if it has 'RTCGMGroup' in the name\n",
    "\n",
    "# OR - add all CGM data together\n",
    "\n",
    "cgm_df = [] # Add all files with \"RTCGM\" in name\n",
    "# Note, joining all together will be very big df (consider using Dask DF)"
   ]
  },
  {
   "cell_type": "code",
   "execution_count": null,
   "metadata": {},
   "outputs": [],
   "source": [
    "# Join ptSummary data on CGM data - with pandas, a SQL-like \"join\" uses the \".merge\" function\n",
    "cgm_control_summary = cgm_df.merge(pt_summary,on='PtID',how='left')"
   ]
  },
  {
   "cell_type": "code",
   "execution_count": null,
   "metadata": {},
   "outputs": [],
   "source": []
  },
  {
   "cell_type": "code",
   "execution_count": null,
   "metadata": {},
   "outputs": [],
   "source": []
  },
  {
   "cell_type": "markdown",
   "metadata": {},
   "source": [
    "# 2. Data Quality Check\n",
    "\n",
    "#### Findings:"
   ]
  },
  {
   "cell_type": "code",
   "execution_count": null,
   "metadata": {},
   "outputs": [],
   "source": [
    "# Check for nulls (white lines in plot)\n",
    "fig,ax = plt.subplots(figsize=(8,4))\n",
    "sns.heatmap(cgm_control_summary.isnull(),cbar=False,ax=ax)\n",
    "ax.get_yaxis().set_visible(False)\n",
    "plt.show()"
   ]
  },
  {
   "cell_type": "code",
   "execution_count": null,
   "metadata": {},
   "outputs": [],
   "source": []
  },
  {
   "cell_type": "code",
   "execution_count": null,
   "metadata": {},
   "outputs": [],
   "source": []
  },
  {
   "cell_type": "markdown",
   "metadata": {
    "toc-hr-collapsed": true
   },
   "source": [
    "# 3. EDA - Feature Exploration for Driving Factors & Relationship to Outcome"
   ]
  },
  {
   "cell_type": "code",
   "execution_count": null,
   "metadata": {},
   "outputs": [],
   "source": [
    "df.head()"
   ]
  },
  {
   "cell_type": "code",
   "execution_count": null,
   "metadata": {},
   "outputs": [],
   "source": [
    "# Example barplot code\n",
    "fig,ax = plt.subplots(figsize=(6,4))\n",
    "sns.barplot(x=df['Col_X'],y=df['Outcome_metric'])\n",
    "plt.show()"
   ]
  },
  {
   "cell_type": "code",
   "execution_count": null,
   "metadata": {},
   "outputs": [],
   "source": []
  },
  {
   "cell_type": "code",
   "execution_count": null,
   "metadata": {},
   "outputs": [],
   "source": []
  },
  {
   "cell_type": "code",
   "execution_count": null,
   "metadata": {},
   "outputs": [],
   "source": []
  }
 ],
 "metadata": {
  "kernelspec": {
   "display_name": "Python 3",
   "language": "python",
   "name": "python3"
  },
  "language_info": {
   "codemirror_mode": {
    "name": "ipython",
    "version": 3
   },
   "file_extension": ".py",
   "mimetype": "text/x-python",
   "name": "python",
   "nbconvert_exporter": "python",
   "pygments_lexer": "ipython3",
   "version": "3.6.6"
  },
  "nbTranslate": {
   "displayLangs": [
    "*"
   ],
   "hotkey": "alt-t",
   "langInMainMenu": true,
   "sourceLang": "en",
   "targetLang": "fr",
   "useGoogleTranslate": true
  },
  "toc": {
   "base_numbering": 1,
   "nav_menu": {},
   "number_sections": true,
   "sideBar": true,
   "skip_h1_title": false,
   "title_cell": "Table of Contents",
   "title_sidebar": "Contents",
   "toc_cell": false,
   "toc_position": {},
   "toc_section_display": true,
   "toc_window_display": false
  }
 },
 "nbformat": 4,
 "nbformat_minor": 4
}
