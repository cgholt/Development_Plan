{
 "cells": [
  {
   "cell_type": "markdown",
   "metadata": {},
   "source": [
    "# Week 1 Skills Assessment - Case Study\n",
    "\n",
    "\n",
    "Add your notes here"
   ]
  },
  {
   "cell_type": "markdown",
   "metadata": {},
   "source": [
    "# Imports"
   ]
  },
  {
   "cell_type": "code",
   "execution_count": 1,
   "metadata": {},
   "outputs": [],
   "source": [
    "%load_ext autoreload"
   ]
  },
  {
   "cell_type": "code",
   "execution_count": 2,
   "metadata": {},
   "outputs": [],
   "source": [
    "%autoreload 2"
   ]
  },
  {
   "cell_type": "code",
   "execution_count": 3,
   "metadata": {},
   "outputs": [],
   "source": [
    "import pandas as pd # ensure v = 0.24 !pip install --upgrade pandas \n",
    "import numpy as np\n",
    "import datetime as dt"
   ]
  },
  {
   "cell_type": "code",
   "execution_count": 4,
   "metadata": {},
   "outputs": [],
   "source": [
    "import seaborn as sns\n",
    "import matplotlib.pyplot as plt\n",
    "from matplotlib.colors import Colormap,LinearSegmentedColormap\n",
    "from matplotlib.gridspec import GridSpec\n",
    "import matplotlib.patches as mpatches"
   ]
  },
  {
   "cell_type": "code",
   "execution_count": 5,
   "metadata": {},
   "outputs": [],
   "source": [
    "%%capture\n",
    "from tqdm import tqdm_notebook as tqdm\n",
    "tqdm().pandas()"
   ]
  },
  {
   "cell_type": "code",
   "execution_count": 6,
   "metadata": {},
   "outputs": [],
   "source": [
    "myColors = [\n",
    "     (88/255.,166/255.,24/255.)\n",
    "          ,(233/255.,131/255.,0/255.)\n",
    "          ,(0/255.,117/255.,191/255.)\n",
    "          ,(147/255.,38/255.,143/255.)\n",
    "         ]\n",
    "\n",
    "name = 'dexmap'\n",
    "cm = LinearSegmentedColormap.from_list(name, myColors, N=4)"
   ]
  },
  {
   "cell_type": "code",
   "execution_count": 7,
   "metadata": {},
   "outputs": [],
   "source": [
    "pd.set_option('display.max_rows', 100)\n",
    "pd.set_option('display.max_columns', 100)"
   ]
  },
  {
   "cell_type": "code",
   "execution_count": 8,
   "metadata": {},
   "outputs": [],
   "source": [
    "sns.set_style('darkgrid')"
   ]
  },
  {
   "cell_type": "code",
   "execution_count": 9,
   "metadata": {},
   "outputs": [],
   "source": [
    "sns.set_context('talk')"
   ]
  },
  {
   "cell_type": "markdown",
   "metadata": {},
   "source": [
    "# Data Import & Preprocessing\n",
    "\n",
    "Complete the following:\n",
    "- Import 'user_accounts_data.csv' as a pandas dataframe\n",
    "- Import 'user_exercise_logs_data.csv' as a pandas dataframe\n",
    "- Determine if any columns have nulls in either dataset\n",
    "- Create the following new columns:\n",
    "    - 'start_date': a date-column representing the date the exercise log was initiated\n",
    "    - 'end_date': a date-column representing the date the exercise log was completed"
   ]
  },
  {
   "cell_type": "code",
   "execution_count": null,
   "metadata": {},
   "outputs": [],
   "source": []
  },
  {
   "cell_type": "code",
   "execution_count": null,
   "metadata": {},
   "outputs": [],
   "source": []
  },
  {
   "cell_type": "code",
   "execution_count": null,
   "metadata": {},
   "outputs": [],
   "source": []
  },
  {
   "cell_type": "code",
   "execution_count": null,
   "metadata": {},
   "outputs": [],
   "source": []
  },
  {
   "cell_type": "markdown",
   "metadata": {},
   "source": [
    "# Basic Computations\n",
    "\n",
    "Answer each of the following questions, with your answer\n",
    "\n",
    "1. How many unique users are there?\n",
    "2. What proportion of users are mae vs female?\n",
    "3. What is the most common type of primary-device?\n",
    "4. What is the average number of users per account?\n",
    "5. "
   ]
  },
  {
   "cell_type": "code",
   "execution_count": null,
   "metadata": {},
   "outputs": [],
   "source": []
  },
  {
   "cell_type": "code",
   "execution_count": null,
   "metadata": {},
   "outputs": [],
   "source": []
  },
  {
   "cell_type": "code",
   "execution_count": null,
   "metadata": {},
   "outputs": [],
   "source": []
  },
  {
   "cell_type": "code",
   "execution_count": null,
   "metadata": {},
   "outputs": [],
   "source": []
  },
  {
   "cell_type": "markdown",
   "metadata": {
    "toc-hr-collapsed": false
   },
   "source": [
    "# 3. EDA - Variant vs Features\n",
    "\n",
    "Examining streaming data for insights to inform quality of statistical testing\n",
    "\n",
    "#### Findings\n",
    "  - Mean event duration (mins): 22.23 mins\n",
    "  - 99th percentile (upper limit) of session duration: 145.19 mins     \n",
    "       - Mean duration with outliers removed: 20.02 mins\n",
    "  - 42% of events are < 5 minutes"
   ]
  },
  {
   "cell_type": "markdown",
   "metadata": {},
   "source": [
    "#### Frequency of event-duration-bins"
   ]
  },
  {
   "cell_type": "code",
   "execution_count": null,
   "metadata": {},
   "outputs": [],
   "source": [
    "fig,ax = plt.subplots(figsize=(12,7))\n",
    "sns.countplot(streams_df['stream_time_bin'],hue=streams_df['variant_id'])\n",
    "ax.set_xlabel('')\n",
    "ax.set_yticklabels([str(int(x/1000))+'k' if x != 0 else '0' for x in np.arange(0,180000,20000)])\n",
    "ax.set_ylabel('Stream Event Count')\n",
    "ax.set_title('Frequency of Stream Event Duration Bin')\n",
    "plt.show()"
   ]
  },
  {
   "cell_type": "code",
   "execution_count": null,
   "metadata": {},
   "outputs": [],
   "source": [
    "# Simple definition of outliers: streams with duration > 99th percentile\n",
    "q99_stream_mins = np.round(streams_df['stream_time_min'].quantile(q=0.99),2)\n",
    "print('Stream duration (mins) 99th Percentile: {0}'.format(q99_stream_mins))"
   ]
  },
  {
   "cell_type": "code",
   "execution_count": null,
   "metadata": {},
   "outputs": [],
   "source": [
    "streams_df['mos_score'][streams_df['stream_time_min']>q99_stream_mins].mean()"
   ]
  },
  {
   "cell_type": "markdown",
   "metadata": {},
   "source": [
    "#### MOS vs Variant & Stream Duration"
   ]
  },
  {
   "cell_type": "code",
   "execution_count": null,
   "metadata": {},
   "outputs": [],
   "source": [
    "fig,ax = plt.subplots(figsize=(12,7))\n",
    "sns.violinplot(x=\"variant_id\", y=\"mos_score\", hue=\"stream_time_bin\",data=streams_df)\n",
    "ax.set_ylim((0,7))\n",
    "ax.set_xlabel('Variant Id')\n",
    "ax.set_ylabel('MOS Score')\n",
    "ax.set_title('MOS vs Vaariant & Session Duration')\n",
    "ax.legend(ncol=5)\n",
    "plt.show()"
   ]
  },
  {
   "cell_type": "markdown",
   "metadata": {},
   "source": [
    "### Cutting stream_df with exclusions"
   ]
  },
  {
   "cell_type": "code",
   "execution_count": null,
   "metadata": {},
   "outputs": [],
   "source": [
    "# Remove streams where: start time > end time & stream-time (mins) > 24 hours\n",
    "streams_df_cut = streams_df[(streams_df['stream_time_min']<=q99_stream_mins)&\\\n",
    "                            (streams_df['start_timestamp']<=streams_df['end_timestamp'])&\\\n",
    "                            (streams_df['mos_score'].notnull())]"
   ]
  },
  {
   "cell_type": "code",
   "execution_count": null,
   "metadata": {},
   "outputs": [],
   "source": [
    "streams_df_cut.describe()"
   ]
  },
  {
   "cell_type": "code",
   "execution_count": null,
   "metadata": {},
   "outputs": [],
   "source": [
    "g = sns.FacetGrid(streams_df_cut, hue=\"variant_id\",aspect=2,height=5)\n",
    "g = g.map(sns.distplot, \"stream_time_min\",bins=22)\n",
    "plt.legend(fontsize=20,title='Streaming Variant')\n",
    "xticks = np.arange(0,150,5)\n",
    "xticks\n",
    "plt.xticks(np.arange(0,150,15))\n",
    "plt.xlim((0,150))\n",
    "plt.xlabel(\"\")\n",
    "plt.ylabel(\"Proportion\")\n",
    "\n",
    "stream_min_mean = streams_df_cut['stream_time_min'].mean()\n",
    "plt.axvline(x=stream_min_mean,color='black',linestyle='--')\n",
    "plt.title('Distribution of Stream Event Duration')\n",
    "plt.show()"
   ]
  },
  {
   "cell_type": "code",
   "execution_count": null,
   "metadata": {},
   "outputs": [],
   "source": [
    "mins5less = np.round(streams_df_cut[streams_df_cut['stream_time_min']<5].shape[0]/streams_df_cut.shape[0]*100,2)\n",
    "print('Percent of streams < 5 mins in duration: {0}'.format(mins5less))"
   ]
  },
  {
   "cell_type": "markdown",
   "metadata": {},
   "source": [
    "#### MOS \n",
    "\n",
    "To do: \n",
    "  - Categorical scatter between MOS & stream time\n",
    "  - Categorical scatter plot between MOS & variant_id"
   ]
  },
  {
   "cell_type": "code",
   "execution_count": null,
   "metadata": {},
   "outputs": [],
   "source": [
    "# Remove streams where: start time > end time & stream-time (mins) > 24 hours\n",
    "streams_df_cut = streams_df[(streams_df['stream_time_min']<=q99_stream_mins)&\\\n",
    "                            (streams_df['start_timestamp']<=streams_df['end_timestamp'])&\\\n",
    "                            (streams_df['mos_score'].notnull())]"
   ]
  },
  {
   "cell_type": "code",
   "execution_count": null,
   "metadata": {},
   "outputs": [],
   "source": [
    "print('Max MOS: {0}, Min MOS {1}'.format(np.round(streams_df_cut['mos_score'].max(),3),streams_df_cut['mos_score'].min()))"
   ]
  },
  {
   "cell_type": "markdown",
   "metadata": {},
   "source": [
    "# 4.Contextual Relationships\n",
    "\n",
    "Findings\n",
    "  - No clear/visual relationship between Variant & MOS Score\n",
    "  - No clear/visual relationship between Stream event duration & MOS Score\n",
    "  - No clear/visual relationship between MOS Score & Churn\n",
    "  - No clear/visual relationship between Stream event duration & Churn"
   ]
  },
  {
   "cell_type": "code",
   "execution_count": null,
   "metadata": {},
   "outputs": [],
   "source": [
    "fig,ax = plt.subplots(figsize=(8,6))\n",
    "sns.violinplot(x=\"variant_id\", y=\"mos_score\",data=streams_df_cut)\n",
    "#ax.set_ylim((0,5))\n",
    "ax.set_xlabel('Variant Id')\n",
    "ax.set_ylabel('MOS Score')\n",
    "ax.set_title('MOS vs Variant')\n",
    "plt.show()"
   ]
  },
  {
   "cell_type": "code",
   "execution_count": null,
   "metadata": {},
   "outputs": [],
   "source": [
    "fig,ax = plt.subplots(figsize=(8,6))\n",
    "sns.scatterplot(x=\"stream_time_min\", y=\"mos_score\",data=streams_df_cut)\n",
    "#ax.set_ylim((0,5))\n",
    "ax.set_xlabel('Session Duration')\n",
    "ax.set_ylabel('MOS Score')\n",
    "ax.set_title('MOS vs Session Duration')\n",
    "plt.show()"
   ]
  },
  {
   "cell_type": "code",
   "execution_count": null,
   "metadata": {},
   "outputs": [],
   "source": [
    "fig,ax = plt.subplots(figsize=(8,6))\n",
    "sns.violinplot(x=\"variant_id\", y=\"mos_score\", hue=\"stream_time_bin\",hue_order = ['< 1hr','1-3 hrs'],data=streams_df_cut)\n",
    "#ax.set_ylim((0,5))\n",
    "ax.set_xlabel('Variant Id')\n",
    "ax.set_ylabel('MOS Score')\n",
    "ax.set_title('MOS vs Variant & Session Duration')\n",
    "ax.legend(loc = 'center')\n",
    "plt.show()"
   ]
  },
  {
   "cell_type": "code",
   "execution_count": null,
   "metadata": {},
   "outputs": [],
   "source": [
    "streams_df_cut = streams_df_cut.merge(act_df[['account_number','churned']],on=['account_number'],how='left')"
   ]
  },
  {
   "cell_type": "code",
   "execution_count": null,
   "metadata": {},
   "outputs": [],
   "source": [
    "streams_df_cut_grouped = streams_df_cut.groupby(['churned','account_number'],as_index=False).mean()"
   ]
  },
  {
   "cell_type": "code",
   "execution_count": null,
   "metadata": {},
   "outputs": [],
   "source": [
    "sns.catplot(x=\"churned\", y=\"mos_score\", data=streams_df_cut_grouped)\n",
    "#ax.set_ylim((0,5))\n",
    "plt.xlabel('Churned')\n",
    "plt.ylabel('MOS Score')\n",
    "plt.title('Churn vs Mean MOS')\n",
    "#ax.legend(loc = 'center')\n",
    "plt.show()"
   ]
  },
  {
   "cell_type": "code",
   "execution_count": null,
   "metadata": {},
   "outputs": [],
   "source": [
    "sns.catplot(x=\"churned\", y=\"stream_time_min\", data=streams_df_cut_grouped)\n",
    "#ax.set_ylim((0,5))\n",
    "plt.xlabel('Churned')\n",
    "plt.ylabel('Mean Stream Event Dur.')\n",
    "plt.title('Churn vs Mean Stream Event Duration')\n",
    "#ax.legend(loc = 'center')\n",
    "plt.show()"
   ]
  },
  {
   "cell_type": "markdown",
   "metadata": {},
   "source": [
    "# 5. Experimental Analysis\n",
    "\n",
    "Study window:\n",
    "  - ~4 months (4/30-8/24) \n",
    "  \n",
    "  \n",
    "Account data\n",
    "  - Remove accounts with streaming data records indicating both variants\n",
    "      - N-old = \n",
    "      - n-new = \n",
    "      \n",
    "      \n",
    "Streams data cleaning:\n",
    "  - Remove event without start times\n",
    "  - Remove outlier events \n",
    "      - Events > 146 minutes (99 percentile is 145.2 mins)\n",
    "      - Events where MOS is null, and duration < 1 minute - maybe not a valid stream/not really enough time to tell the difference"
   ]
  },
  {
   "cell_type": "code",
   "execution_count": null,
   "metadata": {},
   "outputs": [],
   "source": [
    "# Statistical Packages imports\n",
    "import scipy.stats as stats\n",
    "import statsmodels.stats.api as sms\n",
    "from math import ceil\n",
    "\n",
    "from statsmodels.stats.power import TTestIndPower\n",
    "\n",
    "from statsmodels.stats.proportion import proportions_ztest, proportion_confint\n",
    "\n",
    "from scipy.stats import shapiro"
   ]
  },
  {
   "cell_type": "markdown",
   "metadata": {},
   "source": [
    "## Final Data Prep"
   ]
  },
  {
   "cell_type": "code",
   "execution_count": null,
   "metadata": {},
   "outputs": [],
   "source": [
    "dble_variants_streams = pd.DataFrame(streams_df.groupby(['account_number'])['variant_id'].nunique()).reset_index()\n",
    "dble_variants_streams = dble_variants_streams[dble_variants_streams['variant_id']>1]"
   ]
  },
  {
   "cell_type": "code",
   "execution_count": null,
   "metadata": {},
   "outputs": [],
   "source": [
    "# Remove streams where: \n",
    "q99_stream_mins = streams_df['stream_time_min'].quantile(0.99)\n",
    "no_mos_min_thresh = 1\n",
    "dvs = dble_variants_streams['account_number'].unique()\n",
    "ic1 = (streams_df['stream_time_min']<=q99_stream_mins)\n",
    "ic2 = (streams_df['start_timestamp']<=streams_df['end_timestamp'])\n",
    "ic3 = ~((streams_df['mos_score'].isnull()) & (streams_df['stream_time_min']<=no_mos_min_thresh))\n",
    "ic4 = ~(streams_df['account_number'].isin(dvs))\n",
    "ic5 = ~(act_df['account_number'].isin(dvs))\n",
    "\n",
    "streams_df_cut = streams_df[ic1 & ic2 & ic3 & ic4]\n",
    "act_df_cut = act_df[ic5]"
   ]
  },
  {
   "cell_type": "code",
   "execution_count": null,
   "metadata": {},
   "outputs": [],
   "source": [
    "final_df = streams_df_cut.merge(act_df_cut[['account_number','churned']],on=['account_number'])"
   ]
  },
  {
   "cell_type": "code",
   "execution_count": null,
   "metadata": {},
   "outputs": [],
   "source": [
    "final_df['permutation_variant'] = np.random.randint(0,2,size=len(final_df))"
   ]
  },
  {
   "cell_type": "markdown",
   "metadata": {},
   "source": [
    "## Statistical Tests \n",
    "\n",
    "#### Tests to run:\n",
    "    - t-test\n",
    "        - Normalized data\n",
    "        - Down Sampled\n",
    "    - Permutation test\n",
    "    - Bootstrap test"
   ]
  },
  {
   "cell_type": "code",
   "execution_count": null,
   "metadata": {},
   "outputs": [],
   "source": [
    "fig,ax = plt.subplots(figsize=(6,4))\n",
    "sns.barplot(x=final_df['variant_id'],y=final_df['mos_score'],ci=68)\n",
    "ax.set_ylim((0,5))\n",
    "ax.set_xlabel('Variant Id')\n",
    "ax.set_ylabel('Mean MOS Score')\n",
    "ax.set_title('Average MOS')\n",
    "plt.show()"
   ]
  },
  {
   "cell_type": "code",
   "execution_count": null,
   "metadata": {},
   "outputs": [],
   "source": [
    "g = sns.FacetGrid(final_df, hue=\"variant_id\",aspect=2,height=5)\n",
    "g = g.map(sns.distplot, \"mos_score\")\n",
    "plt.legend(fontsize=20,title='Streaming Variant')\n",
    "\n",
    "#plt.xticks(np.arange(0,150,15))\n",
    "#plt.xlim((0,150))\n",
    "plt.xlabel(\"\")\n",
    "plt.ylabel(\"Proportion\")\n",
    "\n",
    "stream_mos_mean = final_df['mos_score'].mean()\n",
    "plt.axvline(x=stream_mos_mean,color='black',linestyle='--')\n",
    "plt.title('Distribution of MOS Values')\n",
    "plt.show()"
   ]
  },
  {
   "cell_type": "markdown",
   "metadata": {},
   "source": [
    "### A) Relationship b/w Variant & MOS (streaming quality)"
   ]
  },
  {
   "cell_type": "code",
   "execution_count": null,
   "metadata": {},
   "outputs": [],
   "source": [
    "# Measure sample sizes reqiored for small,  medium & large effect sizes to be found\n",
    "es_all = [0.2,0.5,0.8]\n",
    "es_reqs = pd.DataFrame()\n",
    "for es in es_all:\n",
    "    r = hp.calc_sample_size(es)\n",
    "    if es_reqs.empty:\n",
    "        es_reqs = r\n",
    "    else:\n",
    "        es_reqs = pd.concat([es_reqs,r],ignore_index=True)\n",
    "es_reqs"
   ]
  },
  {
   "cell_type": "code",
   "execution_count": null,
   "metadata": {},
   "outputs": [],
   "source": [
    "bs_all_results = pd.DataFrame()\n",
    "for ss in [25,50,75,100,200,300,394]:\n",
    "    bs_temp = hp.means_test_experiment(final_df,'mos_score',sample_n=ss,bootstrap=100,comparison=True)\n",
    "    if bs_all_results.empty:\n",
    "        bs_all_results = bs_temp.copy(deep=True)\n",
    "    else:\n",
    "        bs_all_results = pd.concat([bs_all_results,bs_temp],ignore_index=True)"
   ]
  },
  {
   "cell_type": "code",
   "execution_count": null,
   "metadata": {},
   "outputs": [],
   "source": [
    "pct_single_run_sig = np.round(bs_all_results[bs_all_results['test_description']=='original']['pct_sig'].mean(),2)\n",
    "pct_bs_sig = np.round(bs_all_results[bs_all_results['test_description']=='bootstrap_mean']['pct_sig'].mean(),2)\n",
    "print('Percent of single tests with significant results (Varying SS): {0}'.format(pct_single_run_sig))\n",
    "print('Percent of BS tests with significant results (Varying SS): {0}'.format(pct_bs_sig))"
   ]
  },
  {
   "cell_type": "code",
   "execution_count": null,
   "metadata": {},
   "outputs": [],
   "source": [
    "pct_single_run_sig = np.round(bs_all_results[bs_all_results['test_description']=='original']['effect_size(mean_difference)'].mean(),2)\n",
    "pct_bs_sig = np.round(bs_all_results[bs_all_results['test_description']=='bootstrap_mean']['effect_size(mean_difference)'].mean(),2)\n",
    "print('Average % mean group difference (Varying SS): {0}'.format(pct_single_run_sig))\n",
    "print('Average % mean group difference  (Varying SS): {0}'.format(pct_bs_sig))"
   ]
  },
  {
   "cell_type": "code",
   "execution_count": null,
   "metadata": {},
   "outputs": [],
   "source": [
    "original_mean_pct_impvt = np.round(bs_all_results[bs_all_results['test_description']=='original']['effect_size(pct_improvement)'].mean(),2)\n",
    "bs_mean_pct_impvt = np.round(bs_all_results[bs_all_results['test_description']=='bootstrap_mean']['effect_size(pct_improvement)'].mean(),2)\n",
    "print('Average % improvement (Varying SS): {0}'.format(original_mean_pct_impvt))\n",
    "print('Average % improvement (Varying SS): {0}'.format(bs_mean_pct_impvt))"
   ]
  },
  {
   "cell_type": "code",
   "execution_count": null,
   "metadata": {},
   "outputs": [],
   "source": [
    "original_mean_cd = np.round(bs_all_results[bs_all_results['test_description']=='original']['effect_size(cd)'].mean(),2)\n",
    "bs_mean_cd = np.round(bs_all_results[bs_all_results['test_description']=='bootstrap_mean']['effect_size(cd)'].mean(),2)\n",
    "print('Average Effect Size (cohen D) (Varying SS): {0}'.format(original_mean_cd))\n",
    "print('Average Effect Size (cohen D) (Varying SS): {0}'.format(bs_mean_cd))"
   ]
  },
  {
   "cell_type": "code",
   "execution_count": null,
   "metadata": {},
   "outputs": [],
   "source": [
    "bs_all_results[bs_all_results['test_description']=='original']['effect_size(pct_improvement)'].mean()"
   ]
  },
  {
   "cell_type": "code",
   "execution_count": null,
   "metadata": {},
   "outputs": [],
   "source": [
    "bs_all_results"
   ]
  },
  {
   "cell_type": "markdown",
   "metadata": {},
   "source": [
    "### B) Statistical Impact on Churn\n",
    "\n",
    "Context / Background\n",
    "\n",
    "    - Charter video customers Q4 2017 = 16,544 (net Y loss ~ -1.7%)\n",
    "    - Charter video customer Q1 2018 = 16,422 (net Y loss ~ -1.9%)\n",
    "    - Quarterly churn is typically ~ 5-7% (telecom average)\n",
    "    \n",
    "Statistical Tests Run    \n",
    "\n",
    "    1) Account data - Proportions test\n",
    "    2) Permutation test (check against randomness)\n",
    "    3) Bootstrap test (check by resampling)"
   ]
  },
  {
   "cell_type": "code",
   "execution_count": null,
   "metadata": {},
   "outputs": [],
   "source": [
    "act_df_cut.groupby(['variant_id'])['churned'].value_counts().plot(kind='pie',figsize=(6,6))\n",
    "plt.show()"
   ]
  },
  {
   "cell_type": "markdown",
   "metadata": {},
   "source": [
    "#### 1. Proportions Test"
   ]
  },
  {
   "cell_type": "code",
   "execution_count": null,
   "metadata": {},
   "outputs": [],
   "source": [
    "#sample_size = act_df_cut.groupby('variant_id')['account_number'].nunique().min()\n",
    "sample_size = 200\n",
    "results_df = hp.prop_experiment(act_df_cut,sample_n=sample_size,dep_col='churned')\n",
    "results_df"
   ]
  },
  {
   "cell_type": "markdown",
   "metadata": {},
   "source": [
    "#### 2. Permutations Test"
   ]
  },
  {
   "cell_type": "code",
   "execution_count": null,
   "metadata": {},
   "outputs": [],
   "source": [
    "# Permutation test\n",
    "#sample_size = act_df_cut.groupby('variant_id')['account_number'].nunique().min()\n",
    "sample_size = 100\n",
    "nperms = 100\n",
    "results_pdf = pd.DataFrame()\n",
    "for i in range(1,100):\n",
    "    temp_df = hp.prop_experiment(act_df_cut,sample_n=sample_size,permutation=True,dep_col='churned')\n",
    "    if results_pdf.empty:\n",
    "        results_pdf = temp_df\n",
    "    else:\n",
    "        results_pdf = pd.concat([results_pdf,temp_df],ignore_index=True)"
   ]
  },
  {
   "cell_type": "code",
   "execution_count": null,
   "metadata": {},
   "outputs": [],
   "source": [
    "results_pdf.mean()"
   ]
  },
  {
   "cell_type": "markdown",
   "metadata": {},
   "source": [
    "#### 2. Bootstrap tests"
   ]
  },
  {
   "cell_type": "code",
   "execution_count": null,
   "metadata": {},
   "outputs": [],
   "source": [
    "# Bootstrap test\n",
    "#sample_size = act_df_cut.groupby('variant_id')['account_number'].nunique().min()\n",
    "sample_size = 200\n",
    "nperms = 100\n",
    "results_bdf = pd.DataFrame()\n",
    "for i in range(1,100):\n",
    "    temp_df = hp.prop_experiment(act_df_cut,sample_n=sample_size,dep_col='churned')\n",
    "    if results_pdf.empty:\n",
    "        results_bdf = temp_df\n",
    "    else:\n",
    "        results_bdf = pd.concat([results_bdf,temp_df],ignore_index=True)"
   ]
  },
  {
   "cell_type": "code",
   "execution_count": null,
   "metadata": {},
   "outputs": [],
   "source": [
    "results_bdf.mean()"
   ]
  },
  {
   "cell_type": "code",
   "execution_count": null,
   "metadata": {},
   "outputs": [],
   "source": []
  }
 ],
 "metadata": {
  "kernelspec": {
   "display_name": "Python 3",
   "language": "python",
   "name": "python3"
  },
  "language_info": {
   "codemirror_mode": {
    "name": "ipython",
    "version": 3
   },
   "file_extension": ".py",
   "mimetype": "text/x-python",
   "name": "python",
   "nbconvert_exporter": "python",
   "pygments_lexer": "ipython3",
   "version": "3.6.6"
  },
  "nbTranslate": {
   "displayLangs": [
    "*"
   ],
   "hotkey": "alt-t",
   "langInMainMenu": true,
   "sourceLang": "en",
   "targetLang": "fr",
   "useGoogleTranslate": true
  },
  "toc": {
   "base_numbering": 1,
   "nav_menu": {},
   "number_sections": true,
   "sideBar": true,
   "skip_h1_title": false,
   "title_cell": "Table of Contents",
   "title_sidebar": "Contents",
   "toc_cell": false,
   "toc_position": {},
   "toc_section_display": true,
   "toc_window_display": false
  }
 },
 "nbformat": 4,
 "nbformat_minor": 4
}
